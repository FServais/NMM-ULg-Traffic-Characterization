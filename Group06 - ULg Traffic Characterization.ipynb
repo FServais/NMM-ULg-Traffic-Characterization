{
 "cells": [
  {
   "cell_type": "markdown",
   "metadata": {},
   "source": [
    "# Group 06 - ULg traffic characterization"
   ]
  },
  {
   "cell_type": "markdown",
   "metadata": {
    "collapsed": true
   },
   "source": [
    "## Initialisation"
   ]
  },
  {
   "cell_type": "code",
   "execution_count": null,
   "metadata": {
    "collapsed": false
   },
   "outputs": [
    {
     "name": "stdout",
     "output_type": "stream",
     "text": [
      "Chunk number 1\n",
      "Chunk number 2\n",
      "Chunk number 3\n",
      "Chunk number 4\n",
      "Chunk number 5"
     ]
    }
   ],
   "source": [
    "import pandas as pd\n",
    "import numpy as np\n",
    "\n",
    "from utils import *\n",
    "from ipaddress import *\n",
    "\n",
    "import time\n",
    "\n",
    "start_time = time.time()\n",
    "\n",
    "CHUNKSIZE = 10 ** 5\n",
    "\n",
    "ibyts = np.array([])\n",
    "obyts = np.array([])\n",
    "ipkts = np.array([])\n",
    "opkts = np.array([])\n",
    "durations = np.array([])\n",
    "\n",
    "port_traffic_sender = pd.DataFrame({'sp': [-1], 'ibyt': [-1], 'obyt': [-1]}, index=[0]) # Init with row of port -1 to set the columns as integers\n",
    "port_traffic_receiver = pd.DataFrame({'dp': [-1], 'ibyt': [-1], 'obyt': [-1]}, index=[0])\n",
    "\n",
    "traffic_by_ip = pd.DataFrame({'sa': [-1], 'ibyt': [-1], 'obyt': [-1]}, index=[0])\n",
    "\n",
    "traffic_by_prefix_source = pd.DataFrame({'source_netw': [-1], 'ibyt': [-1], 'ipkt': [-1]}, index=[0])\n",
    "traffic_by_prefix_dest = pd.DataFrame({'dest_netw': [-1], 'ibyt': [-1], 'ipkt': [-1]}, index=[0])\n",
    "\n",
    "\n",
    "i = 0\n",
    "df_save = pd.DataFrame()\n",
    "for df in pd.read_csv(\"netflow.csv\", chunksize=CHUNKSIZE, iterator=True):\n",
    "    i += 1\n",
    "    print(\"Chunk number {}\".format(i))\n",
    "    df = df.dropna()\n",
    "\n",
    "    ibyts = np.append(ibyts, [ df[['ibyt']].mean() ])\n",
    "    obyts = np.append(obyts, [ df[['obyt']].mean() ])\n",
    "    ipkts = np.append(ipkts, [df[['ipkt']].mean()])\n",
    "    opkts = np.append(opkts, [df[['opkt']].mean()])\n",
    "    durations = np.append(durations, df[['td']].mean())\n",
    "\n",
    "    # Compute traffic by port\n",
    "    port_traffic_sender = pd.concat([port_traffic_sender, df[['sp', 'ibyt', 'obyt']]])\n",
    "    gb_sender = port_traffic_sender.groupby('sp')\n",
    "    port_traffic_sender = gb_sender.sum().reset_index()\n",
    "\n",
    "    port_traffic_receiver = pd.concat([port_traffic_receiver, df[['dp', 'ibyt', 'obyt']]])\n",
    "    gb_receiver = port_traffic_receiver.groupby('dp')\n",
    "    port_traffic_receiver = gb_receiver.sum().reset_index()\n",
    "\n",
    "    df = df[df['sa'] != -1]\n",
    "    df['source_netw'] = df['sa'].apply(lambda x: str(ip_interface(x + '/24').network))\n",
    "    df['dest_netw'] = df['da'].apply(lambda x: str(ip_interface(x + '/24').network))\n",
    "\n",
    "    traffic_by_prefix_source = pd.concat([traffic_by_prefix_source, df[['source_netw', 'ibyt', 'ipkt']]])\n",
    "    gb_netw_source = traffic_by_prefix_source.groupby('source_netw')\n",
    "    traffic_by_prefix_source = gb_netw_source.sum().reset_index()\n",
    "\n",
    "    traffic_by_prefix_dest = pd.concat([traffic_by_prefix_dest, df[['dest_netw', 'ibyt', 'ipkt']]])\n",
    "    gb_netw_source = traffic_by_prefix_dest.groupby('dest_netw')\n",
    "    traffic_by_prefix_dest = gb_netw_source.sum().reset_index()\n",
    "\n",
    "\n",
    "\n",
    "\n",
    "# -- Post-processing\n",
    "\n",
    "port_traffic_sender = port_traffic_sender[port_traffic_sender.sp != -1]\n",
    "port_traffic_sender['bytes_tot'] = port_traffic_sender['ibyt'] + port_traffic_sender['obyt']\n",
    "\n",
    "port_traffic_receiver = port_traffic_receiver[port_traffic_receiver.dp != -1]\n",
    "port_traffic_receiver['bytes_tot'] = port_traffic_receiver['ibyt'] + port_traffic_receiver['obyt']\n",
    "\n",
    "\n",
    "# ---- COMPUTATIONS\n",
    "\n",
    "# ---- Average packet size\n",
    "\n",
    "ipkt_size = ibyts/ipkts\n",
    "ipkt_size = ipkt_size[~np.isnan(ipkt_size)]\n",
    "if ipkt_size.size > 0:\n",
    "    print(\"Average packet size (input): {0:.2f}\\n\".format(ipkt_size.mean()))\n",
    "\n",
    "opkt_size = obyts/opkts\n",
    "opkt_size = opkt_size[~np.isnan(opkt_size)]\n",
    "if opkt_size.size > 0:\n",
    "    print(\"Average packet size (output): {0:.2f}\\n\".format(opkt_size.mean()))\n",
    "\n",
    "\n",
    "# 92.106.195.0/24 address block\n",
    "total_traffic_source_pkts = traffic_by_prefix_source['ipkt'].sum()\n",
    "total_traffic_source_byts = traffic_by_prefix_source['ibyt'].sum()\n",
    "total_traffic_dest_pkts = traffic_by_prefix_dest['ipkt'].sum()\n",
    "total_traffic_dest_byts = traffic_by_prefix_dest['ibyt'].sum()\n",
    "\n",
    "print('Fraction of traffic sent by 92.106.195.0/24 (in pkts): {:.3%}'.format(traffic_by_prefix_source[traffic_by_prefix_source['source_netw'] == '92.106.195.0/24']['ipkt'].iloc[0]/total_traffic_source_pkts))\n",
    "print('Fraction of traffic sent by 92.106.195.0/24 (in bytes): {:.3%}'.format(traffic_by_prefix_source[traffic_by_prefix_source['source_netw'] == '92.106.195.0/24']['ibyt'].iloc[0]/total_traffic_source_byts))\n",
    "print('Fraction of traffic sent to 92.106.195.0/24 (in pkts): {:.3%}'.format(traffic_by_prefix_dest[traffic_by_prefix_dest['dest_netw'] == '92.106.195.0/24']['ipkt'].iloc[0]/total_traffic_dest_pkts))\n",
    "print('Fraction of traffic sent to 92.106.195.0/24 (in bytes): {:.3%}'.format(traffic_by_prefix_dest[traffic_by_prefix_dest['dest_netw'] == '92.106.195.0/24']['ibyt'].iloc[0]/total_traffic_dest_byts))\n",
    "\n",
    "\n",
    "\n",
    "\n",
    "print(\"Execution time: {}\".format(time.time() - start_time))"
   ]
  },
  {
   "cell_type": "markdown",
   "metadata": {},
   "source": [
    "## Questions"
   ]
  },
  {
   "cell_type": "markdown",
   "metadata": {},
   "source": [
    "### What is the average packet size, across all traffic in the trace (in and out)? Describe how you computed this number."
   ]
  },
  {
   "cell_type": "code",
   "execution_count": null,
   "metadata": {
    "collapsed": true
   },
   "outputs": [],
   "source": []
  }
 ],
 "metadata": {
  "kernelspec": {
   "display_name": "Python 3",
   "language": "python",
   "name": "python3"
  },
  "language_info": {
   "codemirror_mode": {
    "name": "ipython",
    "version": 3
   },
   "file_extension": ".py",
   "mimetype": "text/x-python",
   "name": "python",
   "nbconvert_exporter": "python",
   "pygments_lexer": "ipython3",
   "version": "3.4.3"
  }
 },
 "nbformat": 4,
 "nbformat_minor": 0
}
